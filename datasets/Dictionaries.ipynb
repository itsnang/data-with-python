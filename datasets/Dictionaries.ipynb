{
 "cells": [
  {
   "cell_type": "markdown",
   "metadata": {
    "id": "XfJlkly6ZkPK"
   },
   "source": [
    "<h1>Dictionaries in Python</h1>"
   ]
  },
  {
   "cell_type": "markdown",
   "metadata": {
    "id": "CWwHCFoCZkPO"
   },
   "source": [
    "<h2>Table of Contents</h2>\n",
    "<div class=\"alert alert-block alert-info\" style=\"margin-top: 20px\">\n",
    "    <ul>\n",
    "        <li>\n",
    "            <a href=\"#dic\">Dictionaries</a>\n",
    "            <ul>\n",
    "                <li><a href=\"content\">What are Dictionaries?</a></li>\n",
    "                <li><a href=\"key\">Keys</a></li>\n",
    "            </ul>\n",
    "        </li>\n",
    "        <li>\n",
    "            <a href=\"#quiz\">Quiz on Dictionaries</a>\n",
    "        </li>\n",
    "    </ul>\n",
    "</div>\n",
    "\n",
    "<hr>"
   ]
  },
  {
   "cell_type": "markdown",
   "metadata": {
    "id": "zfrymaF7ZkPP"
   },
   "source": [
    "<h2 id=\"Dic\">Dictionaries</h2>"
   ]
  },
  {
   "cell_type": "markdown",
   "metadata": {
    "id": "docbtpZCZkPQ"
   },
   "source": [
    "<h3 id=\"content\">What are Dictionaries?</h3>"
   ]
  },
  {
   "cell_type": "markdown",
   "metadata": {
    "id": "qFT3VysZZkPQ"
   },
   "source": [
    "A dictionary consists of keys and values. It is helpful to compare a dictionary to a list. Instead of the numerical indexes such as a list, dictionaries have keys. These keys are the keys that are used to access values within a dictionary."
   ]
  },
  {
   "cell_type": "markdown",
   "metadata": {
    "id": "rcavoYwTZkPR"
   },
   "source": [
    "<img src=\"https://s3-api.us-geo.objectstorage.softlayer.net/cf-courses-data/CognitiveClass/PY0101EN/Chapter%202/Images/DictsList.png\" width=\"650\" />"
   ]
  },
  {
   "cell_type": "markdown",
   "metadata": {
    "id": "MQl_hGYtZkPR"
   },
   "source": [
    "An example of a Dictionary <code>Dict</code>:"
   ]
  },
  {
   "cell_type": "code",
   "execution_count": null,
   "metadata": {
    "id": "_S0YeQx5ZkPS",
    "outputId": "9ec186a1-3471-4cba-82d3-ebd516525a57"
   },
   "outputs": [],
   "source": [
    "# Create the dictionary\n",
    "\n",
    "Dict = {\n",
    "        \"key1\": 1,\n",
    "        \"key2\": \"2\",\n",
    "        \"key3\": [3, 3, 3],\n",
    "        \"key4\": (4, 4, 4),\n",
    "        ('key5'): 5, (0, 1): 6\n",
    "       }\n",
    "Dict"
   ]
  },
  {
   "cell_type": "markdown",
   "metadata": {
    "id": "2LJjGHGxZkPU"
   },
   "source": [
    "The keys can be strings:"
   ]
  },
  {
   "cell_type": "code",
   "execution_count": null,
   "metadata": {
    "id": "i6qVO3kdZkPU",
    "outputId": "eefb8d06-c500-4a86-bf6c-e83d80332fdf"
   },
   "outputs": [],
   "source": [
    "# Access to the value by the key\n",
    "Dict['key3']\n"
   ]
  },
  {
   "cell_type": "markdown",
   "metadata": {
    "id": "pFaTvRTUZkPV"
   },
   "source": [
    "Keys can also be any immutable object such as a tuple:"
   ]
  },
  {
   "cell_type": "code",
   "execution_count": null,
   "metadata": {
    "id": "KSrSfAniZkPV"
   },
   "outputs": [],
   "source": [
    "# Access to the value by the key\n",
    "\n"
   ]
  },
  {
   "cell_type": "markdown",
   "metadata": {
    "id": "KG8vqHtYZkPV"
   },
   "source": [
    " Each key is separated from its value by a colon \"<code>:</code>\".  Commas separate the items, and the whole dictionary is enclosed in curly braces. An empty dictionary without any items is written with just two curly braces, like this  \"<code>{}</code>\"."
   ]
  },
  {
   "cell_type": "code",
   "execution_count": null,
   "metadata": {
    "id": "fnBNiUVcZkPV",
    "outputId": "650ae66c-dfc0-43d3-f9dd-6a691a3692f5"
   },
   "outputs": [],
   "source": [
    "# Create a sample dictionary\n",
    "\n",
    "release_year_dict = {\"Thriller\": \"1982\", \"Back in Black\": \"1980\", \\\n",
    "                    \"The Dark Side of the Moon\": \"1973\", \"The Bodyguard\": \"1992\", \\\n",
    "                    \"Bat Out of Hell\": \"1977\", \"Their Greatest Hits (1971-1975)\": \"1976\", \\\n",
    "                    \"Saturday Night Fever\": \"1977\", \"Rumours\": \"1977\"}\n",
    "release_year_dict"
   ]
  },
  {
   "cell_type": "markdown",
   "metadata": {
    "id": "9Nr42mciZkPW"
   },
   "source": [
    "In summary, like a list, a dictionary holds a sequence of elements. Each element is represented by a key and its corresponding value. Dictionaries are created with two curly braces containing keys and values separated by a colon. For every key, there can only be one single value, however,  multiple keys can hold the same value. Keys can only be strings, numbers, or tuples, but values can be any data type."
   ]
  },
  {
   "cell_type": "markdown",
   "metadata": {
    "id": "U6BdZxRwZkPW"
   },
   "source": [
    "It is helpful to visualize the dictionary as a table, as in the following image. The first column represents the keys, the second column represents the values."
   ]
  },
  {
   "cell_type": "markdown",
   "metadata": {
    "id": "jUKzCbAsZkPW"
   },
   "source": [
    "<img src=\"https://s3-api.us-geo.objectstorage.softlayer.net/cf-courses-data/CognitiveClass/PY0101EN/Chapter%202/Images/DictsStructure.png\" width=\"650\" />"
   ]
  },
  {
   "cell_type": "markdown",
   "metadata": {
    "id": "Y1mCF2h5ZkPW"
   },
   "source": [
    "<h3 id=\"key\">Keys</h3>"
   ]
  },
  {
   "cell_type": "markdown",
   "metadata": {
    "id": "-_GqCv4UZkPW"
   },
   "source": [
    "You can retrieve the values based on the names:"
   ]
  },
  {
   "cell_type": "code",
   "execution_count": null,
   "metadata": {
    "id": "eHlBIjESZkPW",
    "outputId": "12d0375e-858d-441f-c110-818fa9243146"
   },
   "outputs": [],
   "source": [
    "# Get value by keys\n",
    "release_year_dict['Thriller']\n"
   ]
  },
  {
   "cell_type": "markdown",
   "metadata": {
    "id": "-PijTy_lZkPW"
   },
   "source": [
    "This corresponds to:\n"
   ]
  },
  {
   "cell_type": "markdown",
   "metadata": {
    "id": "DjJwO4NMZkPX"
   },
   "source": [
    "<img src=\"https://s3-api.us-geo.objectstorage.softlayer.net/cf-courses-data/CognitiveClass/PY0101EN/Chapter%202/Images/DictsKeyOne.png\" width=\"500\" />"
   ]
  },
  {
   "cell_type": "markdown",
   "metadata": {
    "id": "m9UEw8-fZkPX"
   },
   "source": [
    "Similarly for <b>The Bodyguard</b>"
   ]
  },
  {
   "cell_type": "code",
   "execution_count": null,
   "metadata": {
    "id": "JbHFsaOcZkPX"
   },
   "outputs": [],
   "source": [
    "# Get value by key\n",
    "release_year_dict['The Bodyguard']\n",
    "\n"
   ]
  },
  {
   "cell_type": "markdown",
   "metadata": {
    "id": "5Za_87FwZkPX"
   },
   "source": [
    "<img src=\"https://s3-api.us-geo.objectstorage.softlayer.net/cf-courses-data/CognitiveClass/PY0101EN/Chapter%202/Images/DictsKeyTwo.png\" width=\"500\" />"
   ]
  },
  {
   "cell_type": "markdown",
   "metadata": {
    "id": "ra1YWgeWZkPX"
   },
   "source": [
    "Now let you retrieve the keys of the dictionary using the method <code>dict.keys()</code>:"
   ]
  },
  {
   "cell_type": "code",
   "execution_count": null,
   "metadata": {
    "id": "qEXvPLL6ZkPX",
    "outputId": "1805267c-ede2-4c97-a463-1ce6f0be07ad"
   },
   "outputs": [],
   "source": [
    "# Get all the keys in dictionary\n",
    "release_year_dict.keys()\n"
   ]
  },
  {
   "cell_type": "markdown",
   "metadata": {
    "id": "zOxvbhpdZkPY"
   },
   "source": [
    "You can retrieve the values using the method  <code>dict.values()</code>:"
   ]
  },
  {
   "cell_type": "code",
   "execution_count": null,
   "metadata": {
    "id": "oOtKKveSZkPY",
    "outputId": "93b22c44-f6e8-49b2-91d1-94747c87c091"
   },
   "outputs": [],
   "source": [
    "# Get all the values in dictionary\n",
    "release_year_dict.values()\n"
   ]
  },
  {
   "cell_type": "markdown",
   "metadata": {
    "id": "SLovmYX_ZkPY"
   },
   "source": [
    "We can add an entry by just assign a value to a new key."
   ]
  },
  {
   "cell_type": "code",
   "execution_count": null,
   "metadata": {
    "id": "T5CYmmscZkPY",
    "outputId": "b147606f-ced8-471d-808c-ebc1addc01c4"
   },
   "outputs": [],
   "source": [
    "# Append value with key into dictionary\n",
    "release_year_dict['Spider Man'] = '2009'\n",
    "release_year_dict\n"
   ]
  },
  {
   "cell_type": "code",
   "execution_count": null,
   "metadata": {
    "id": "AqMIh73tZkPZ",
    "outputId": "b469a96d-c237-49ca-d387-ef08f7a5aec1"
   },
   "outputs": [],
   "source": [
    "release_year_dict['Thriller'] = '1990'\n",
    "release_year_dict"
   ]
  },
  {
   "cell_type": "markdown",
   "metadata": {
    "id": "8_UJC19lZkPZ"
   },
   "source": [
    "We can delete an entry by using <code>del(dict[key])</code>:   "
   ]
  },
  {
   "cell_type": "code",
   "execution_count": null,
   "metadata": {
    "id": "NpclWBXRZkPZ",
    "outputId": "c5ab19be-0771-4aa9-fd04-ec78424a96aa"
   },
   "outputs": [],
   "source": [
    "# Delete entries by key\n",
    "del(release_year_dict['Thriller'])\n",
    "release_year_dict"
   ]
  },
  {
   "cell_type": "markdown",
   "metadata": {
    "id": "VSBQcpuAZkPa"
   },
   "source": [
    " We can verify if an element is in the dictionary by using <code>a in dict</code>:"
   ]
  },
  {
   "cell_type": "code",
   "execution_count": null,
   "metadata": {
    "id": "gqL1MQh-ZkPa",
    "outputId": "6a60ffe6-60ac-4f95-feb1-0d06720c7ace"
   },
   "outputs": [],
   "source": [
    "# Verify the key is in the dictionary\n",
    "\n",
    "'Thriller' in release_year_dict"
   ]
  },
  {
   "cell_type": "markdown",
   "metadata": {
    "id": "Nr9evzQNZkPa"
   },
   "source": [
    "<hr>"
   ]
  },
  {
   "cell_type": "markdown",
   "metadata": {
    "id": "59SuRy_ZZkPa"
   },
   "source": [
    "<h2 id=\"quiz\">Quiz on Dictionaries</h2>"
   ]
  },
  {
   "cell_type": "markdown",
   "metadata": {
    "id": "3lfaNw-BZkPb"
   },
   "source": [
    "<b>You will need this dictionary for the next two questions:</b>"
   ]
  },
  {
   "cell_type": "code",
   "execution_count": null,
   "metadata": {
    "id": "lRbHUQciZkPg",
    "outputId": "5f53a0af-28da-4c24-88bb-4d1ee07fa4a1"
   },
   "outputs": [],
   "source": [
    "# Question sample dictionary\n",
    "\n",
    "soundtrack_dic = {\"The Bodyguard\":\"1992\", \"Saturday Night Fever\":\"1977\"}\n",
    "soundtrack_dic"
   ]
  },
  {
   "cell_type": "markdown",
   "metadata": {
    "id": "MMSgBcIdZkPg"
   },
   "source": [
    "a) In the dictionary <code>soundtrack_dict</code> what are the keys ?"
   ]
  },
  {
   "cell_type": "code",
   "execution_count": null,
   "metadata": {
    "id": "uitrdq01ZkPg",
    "outputId": "0aaa1743-b224-4144-ec47-1597742b909f"
   },
   "outputs": [],
   "source": [
    "# Write your code below and press Shift+Enter to execute\n"
   ]
  },
  {
   "cell_type": "markdown",
   "metadata": {
    "id": "lxO9WcxrZkPg"
   },
   "source": [
    "b) In the dictionary <code>soundtrack_dict</code> what are the values ?"
   ]
  },
  {
   "cell_type": "code",
   "execution_count": null,
   "metadata": {
    "id": "eTXdhju8ZkPh",
    "outputId": "10623b4e-4e1f-4584-d33b-f71956d67c89"
   },
   "outputs": [],
   "source": [
    "# Write your code below and press Shift+Enter to execute\n"
   ]
  },
  {
   "cell_type": "markdown",
   "metadata": {
    "id": "9JCsmRnGZkPh"
   },
   "source": [
    "<hr>"
   ]
  },
  {
   "cell_type": "markdown",
   "metadata": {
    "id": "lX42EKbNZkPh"
   },
   "source": [
    "<b>You will need this dictionary for the following questions:</b>"
   ]
  },
  {
   "cell_type": "markdown",
   "metadata": {
    "id": "ktM1xkyRZkPh"
   },
   "source": [
    "The Albums <b>Back in Black</b>, <b>The Bodyguard</b> and <b>Thriller</b> have the following music recording sales in millions 50, 50 and 65 respectively:"
   ]
  },
  {
   "cell_type": "markdown",
   "metadata": {
    "id": "2hmJvIABZkPh"
   },
   "source": [
    "a) Create a dictionary <code>album_sales_dict</code> where the keys are the album name and the sales in millions are the values."
   ]
  },
  {
   "cell_type": "code",
   "execution_count": null,
   "metadata": {
    "id": "FnHSXc8SZkPh",
    "outputId": "0b4393da-f5ea-40d7-838a-f5b3206bb617"
   },
   "outputs": [],
   "source": [
    "# Write your code below and press Shift+Enter to execute\n",
    "album_sales_dict = ..."
   ]
  },
  {
   "cell_type": "markdown",
   "metadata": {
    "id": "r_SZo-ewZkPh"
   },
   "source": [
    "b) Use the dictionary to find the total sales of <b>Thriller</b>:"
   ]
  },
  {
   "cell_type": "code",
   "execution_count": null,
   "metadata": {
    "id": "7bQMwJh8ZkPi",
    "outputId": "5a5f8642-4c33-4b1d-eeb0-c578e852b01d"
   },
   "outputs": [],
   "source": [
    "# Write your code below and press Shift+Enter to execute\n",
    "\n"
   ]
  },
  {
   "cell_type": "markdown",
   "metadata": {
    "id": "z_xyV4ESZkPi"
   },
   "source": [
    "c) Find the names of the albums from the dictionary using the method <code>keys</code>:"
   ]
  },
  {
   "cell_type": "code",
   "execution_count": null,
   "metadata": {
    "id": "FkAIfjEoZkPi",
    "outputId": "c86d5beb-bba9-4be5-ef01-a6f6221ddea6"
   },
   "outputs": [],
   "source": [
    "# Write your code below and press Shift+Enter to execute\n"
   ]
  },
  {
   "cell_type": "markdown",
   "metadata": {
    "id": "LGsV5gzSZkPi"
   },
   "source": [
    "d) Find the names of the recording sales from the dictionary using the method <code>values</code>:"
   ]
  },
  {
   "cell_type": "code",
   "execution_count": null,
   "metadata": {
    "id": "ojmv6ikoZkPj",
    "outputId": "0b4ee8d1-fd4c-4ff0-9375-4a93db91f03a"
   },
   "outputs": [],
   "source": [
    "# Write your code below and press Shift+Enter to execute\n"
   ]
  },
  {
   "cell_type": "code",
   "execution_count": null,
   "metadata": {
    "id": "RY99ro-vZkPj"
   },
   "outputs": [],
   "source": []
  }
 ],
 "metadata": {
  "colab": {
   "provenance": []
  },
  "kernelspec": {
   "display_name": "Python 3 (ipykernel)",
   "language": "python",
   "name": "python3"
  },
  "language_info": {
   "codemirror_mode": {
    "name": "ipython",
    "version": 3
   },
   "file_extension": ".py",
   "mimetype": "text/x-python",
   "name": "python",
   "nbconvert_exporter": "python",
   "pygments_lexer": "ipython3",
   "version": "3.12.0"
  }
 },
 "nbformat": 4,
 "nbformat_minor": 4
}
