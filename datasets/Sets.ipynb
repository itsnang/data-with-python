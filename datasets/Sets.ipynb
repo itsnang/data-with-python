{
 "cells": [
  {
   "cell_type": "markdown",
   "metadata": {
    "id": "FGERdQQmZ0Tu"
   },
   "source": [
    "<h1>Sets in Python</h1>"
   ]
  },
  {
   "cell_type": "markdown",
   "metadata": {
    "id": "gjra1fvIZ0Tw"
   },
   "source": [
    "<h2>Table of Contents</h2>\n",
    "<div class=\"alert alert-block alert-info\" style=\"margin-top: 20px\">\n",
    "    <ul>\n",
    "        <li>\n",
    "            <a href=\"#set\">Sets</a>\n",
    "            <ul>\n",
    "                <li><a href=\"content\">Set Content</a></li>\n",
    "                <li><a href=\"op\">Set Operations</a></li>\n",
    "                <li><a href=\"logic\">Sets Logic Operations</a></li>\n",
    "            </ul>\n",
    "        </li>\n",
    "        <li>\n",
    "            <a href=\"#quiz\">Quiz on Sets</a>\n",
    "        </li>\n",
    "    </ul>\n",
    "</div>\n",
    "\n",
    "<hr>"
   ]
  },
  {
   "cell_type": "markdown",
   "metadata": {
    "id": "wtJi65SAZ0Tz"
   },
   "source": [
    "<h2 id=\"set\">Sets</h2>"
   ]
  },
  {
   "cell_type": "markdown",
   "metadata": {
    "id": "xB3ryaGaZ0T0"
   },
   "source": [
    "<h3 id=\"content\">Set Content</h3>"
   ]
  },
  {
   "cell_type": "markdown",
   "metadata": {
    "id": "kjF0R1utZ0T1"
   },
   "source": [
    "A set is a unique collection of objects in Python. You can denote a set with a curly bracket <b>{}</b>. Python will automatically remove duplicate items:"
   ]
  },
  {
   "cell_type": "code",
   "execution_count": null,
   "metadata": {
    "id": "W1HRJ93lZ0T3",
    "outputId": "551bb11e-8cc2-4c70-e6f6-f7546eabbf02"
   },
   "outputs": [],
   "source": [
    "# Create a set\n",
    "\n",
    "set1 = {\"pop\", \"rock\", \"soul\", \"hard rock\", \"rock\", \"R&B\", \"rock\", \"disco\"}\n",
    "set1"
   ]
  },
  {
   "cell_type": "markdown",
   "metadata": {
    "id": "r1R2PbBHZ0T6"
   },
   "source": [
    "The process of mapping is illustrated in the figure:"
   ]
  },
  {
   "cell_type": "markdown",
   "metadata": {
    "id": "D4Hr_1hGZ0T7"
   },
   "source": [
    "<img src=\"https://s3-api.us-geo.objectstorage.softlayer.net/cf-courses-data/CognitiveClass/PY0101EN/Chapter%202/Images/SetsUnique.png\" width=\"1100\" />"
   ]
  },
  {
   "cell_type": "markdown",
   "metadata": {
    "id": "sNrW5SAzZ0T7"
   },
   "source": [
    " You can also  create a set from a list as follows:"
   ]
  },
  {
   "cell_type": "code",
   "execution_count": null,
   "metadata": {
    "id": "jcWxh5pnZ0T9",
    "outputId": "23fcbfd5-fd09-48b4-ad77-44c05d3627cf",
    "scrolled": true
   },
   "outputs": [],
   "source": [
    "# Use set() to convert list to set\n",
    "\n",
    "album_list = [ \"Michael Jackson\", \"Thriller\", 1982, \"00:42:19\", \\\n",
    "              \"Pop, Rock, R&B\", 46.0, 65, \"30-Nov-82\", None, 10.0]\n",
    "album_set = set(album_list)\n",
    "album_set"
   ]
  },
  {
   "cell_type": "markdown",
   "metadata": {
    "id": "EirtDXUIZ0T9"
   },
   "source": [
    "Now let us create a set of  genres:"
   ]
  },
  {
   "cell_type": "code",
   "execution_count": null,
   "metadata": {
    "id": "me_A5SQeZ0T-",
    "outputId": "89fece4b-1c32-477c-fffd-c7dca9e481d4"
   },
   "outputs": [],
   "source": [
    "# Convert list to set\n",
    "\n",
    "music_genres = set([\"pop\", \"pop\", \"rock\", \"folk rock\", \"hard rock\", \"soul\", \\\n",
    "                    \"progressive rock\", \"soft rock\", \"R&B\", \"disco\"])\n",
    "music_genres"
   ]
  },
  {
   "cell_type": "markdown",
   "metadata": {
    "id": "cMlZGs5sZ0T-"
   },
   "source": [
    "<h3 id=\"op\">Set Operations</h3>"
   ]
  },
  {
   "cell_type": "markdown",
   "metadata": {
    "id": "5kV04tt6Z0UA"
   },
   "source": [
    "Let us go over set operations, as these can be used to change the set. Consider the set <b>A</b>:"
   ]
  },
  {
   "cell_type": "code",
   "execution_count": null,
   "metadata": {
    "id": "CIJaWi_-Z0UB",
    "outputId": "4ca5946b-fcf0-487d-f6b2-d575fc3be8ea"
   },
   "outputs": [],
   "source": [
    "# Sample set\n",
    "\n",
    "A = set([\"Thriller\", \"Back in Black\", \"AC/DC\"])\n",
    "A"
   ]
  },
  {
   "cell_type": "markdown",
   "metadata": {
    "id": "MwiAjazOZ0UB"
   },
   "source": [
    " We can add an element to a set using the <code>add()</code> method:"
   ]
  },
  {
   "cell_type": "code",
   "execution_count": null,
   "metadata": {
    "id": "Ig186GmMZ0UB",
    "outputId": "4284318e-1130-48d1-802d-91a9d639ca00"
   },
   "outputs": [],
   "source": [
    "# Add element to set\n",
    "A.add(\"Iron Man\")\n",
    "A\n"
   ]
  },
  {
   "cell_type": "markdown",
   "metadata": {
    "id": "aVT9m9JoZ0UC"
   },
   "source": [
    " If we add the same element twice, nothing will happen as there can be no duplicates in a set:\n"
   ]
  },
  {
   "cell_type": "code",
   "execution_count": null,
   "metadata": {
    "id": "Q-Dqy4rsZ0UC",
    "outputId": "f15c7f14-6c10-45fc-f562-5d45a492cc42"
   },
   "outputs": [],
   "source": [
    "# Try to add duplicate element to the set\n",
    "A.add(\"Iron Man\")\n",
    "A"
   ]
  },
  {
   "cell_type": "markdown",
   "metadata": {
    "id": "UtIyDeBVZ0UD"
   },
   "source": [
    " We can remove an item from a set using the <code>remove</code> method:"
   ]
  },
  {
   "cell_type": "code",
   "execution_count": null,
   "metadata": {
    "id": "iVuYzcbOZ0UD",
    "outputId": "80ee7a80-9dd9-4416-a97c-62fb5abaeb1e"
   },
   "outputs": [],
   "source": [
    "# Remove the element from set\n",
    "\n",
    "A.remove(\"Iron Man\")\n",
    "A"
   ]
  },
  {
   "cell_type": "markdown",
   "metadata": {
    "id": "sQOuyyujZ0UE"
   },
   "source": [
    " We can verify if an element is in the set using the <code>in</code> command:"
   ]
  },
  {
   "cell_type": "code",
   "execution_count": null,
   "metadata": {
    "id": "TvTEfl0pZ0UE",
    "outputId": "37c04f0d-3ae2-49fb-bf9d-f33fdd9d9873"
   },
   "outputs": [],
   "source": [
    "# Verify if the element is in the set\n",
    "movie = 'Spider Man'\n",
    "A = {'AC/DC', 'Back in Black', 'Iron Man', 'Thriller'}\n",
    "\n",
    "if movie in A:\n",
    "    print(movie)\n",
    "else:\n",
    "    print('The movie is not in the set.')"
   ]
  },
  {
   "cell_type": "markdown",
   "metadata": {
    "id": "aGXwp1-jZ0UE"
   },
   "source": [
    "Use len() to check the number of elements in a set"
   ]
  },
  {
   "cell_type": "code",
   "execution_count": null,
   "metadata": {
    "id": "No7lfZotZ0UE",
    "outputId": "d128f038-5fa4-47af-f7a1-5830d8ebbc3f"
   },
   "outputs": [],
   "source": [
    "len(A)"
   ]
  },
  {
   "cell_type": "markdown",
   "metadata": {
    "id": "4LQU4uqhZ0UF"
   },
   "source": [
    "<h3 id=\"logic\">Sets Logic Operations</h3>"
   ]
  },
  {
   "cell_type": "markdown",
   "metadata": {
    "id": "fY77pwNCZ0UF"
   },
   "source": [
    "Remember that with sets you can check the difference between sets, as well as the symmetric difference, intersection, and union:"
   ]
  },
  {
   "cell_type": "markdown",
   "metadata": {
    "id": "w4IeitEMZ0UF"
   },
   "source": [
    " Consider the following two sets:"
   ]
  },
  {
   "cell_type": "code",
   "execution_count": null,
   "metadata": {
    "id": "i4YHX97ZZ0UF"
   },
   "outputs": [],
   "source": [
    "# Sample Sets\n",
    "\n",
    "album_set1 = set([\"Thriller\", 'AC/DC', 'Back in Black'])\n",
    "album_set2 = set([ \"AC/DC\", \"Back in Black\", \"The Dark Side of the Moon\"])"
   ]
  },
  {
   "cell_type": "markdown",
   "metadata": {
    "id": "tktMS4XTZ0UG"
   },
   "source": [
    "<img src=\"https://s3-api.us-geo.objectstorage.softlayer.net/cf-courses-data/CognitiveClass/PY0101EN/Chapter%202/Images/SetsSamples.png\" width=\"650\" />"
   ]
  },
  {
   "cell_type": "code",
   "execution_count": null,
   "metadata": {
    "id": "qNsTW37tZ0UG",
    "outputId": "899deb95-397c-426b-efde-bac7dcb867e2",
    "scrolled": true
   },
   "outputs": [],
   "source": [
    "# Print two sets\n",
    "\n",
    "album_set1, album_set2"
   ]
  },
  {
   "cell_type": "markdown",
   "metadata": {
    "id": "NYrBjvTcZ0UG"
   },
   "source": [
    "As both sets contain <b>AC/DC</b> and <b>Back in Black</b> we represent these common elements with the intersection of two circles."
   ]
  },
  {
   "cell_type": "markdown",
   "metadata": {
    "id": "vbhXSH6aZ0UG"
   },
   "source": [
    "<img src = \"https://s3-api.us-geo.objectstorage.softlayer.net/cf-courses-data/CognitiveClass/PY0101EN/Chapter%202/Images/SetsLogic.png\" width = \"650\" />"
   ]
  },
  {
   "cell_type": "markdown",
   "metadata": {
    "id": "rp3vuPv6Z0UH"
   },
   "source": [
    "You can find the intersect of two sets as follow using <code>&</code>:"
   ]
  },
  {
   "cell_type": "code",
   "execution_count": null,
   "metadata": {
    "id": "i2kIb-8RZ0UH",
    "outputId": "359078a7-4f0e-42f8-a125-cab088a1a171"
   },
   "outputs": [],
   "source": [
    "# Use setA.intersection(setB) to find the intersections\n",
    "album_set1 = set([\"Thriller\", 'AC/DC', 'Back in Black'])\n",
    "album_set2 = set([ \"AC/DC\", \"Back in Black\", \"The Dark Side of the Moon\"])\n",
    "\n",
    "intersection = album_set1.intersection(album_set2)\n",
    "intersection"
   ]
  },
  {
   "cell_type": "markdown",
   "metadata": {
    "id": "6kUhe1tqZ0UH"
   },
   "source": [
    "You can find all the elements that are only contained in <code>album_set1</code> using the <code>difference</code> method:"
   ]
  },
  {
   "cell_type": "code",
   "execution_count": null,
   "metadata": {
    "id": "ZDdsPVyAZ0UI",
    "outputId": "cb3b0132-0cdc-4c99-d38e-e2f8b21d21d3"
   },
   "outputs": [],
   "source": [
    "# Use setA.difference(setB) to find the difference in set1 but not set2\n",
    "\n",
    "difference = album_set1.difference(album_set2)\n",
    "difference"
   ]
  },
  {
   "cell_type": "markdown",
   "metadata": {
    "id": "u_3mABC3Z0UI"
   },
   "source": [
    "You only need to consider elements in <code>album_set1</code>; all the elements in <code>album_set2</code>, including the intersection, are not included."
   ]
  },
  {
   "cell_type": "markdown",
   "metadata": {
    "id": "pFtbbchUZ0UI"
   },
   "source": [
    "<img src=\"https://s3-api.us-geo.objectstorage.softlayer.net/cf-courses-data/CognitiveClass/PY0101EN/Chapter%202/Images/SetsLeft.png\" width=\"650\" />"
   ]
  },
  {
   "cell_type": "markdown",
   "metadata": {
    "id": "BFYx-ykuZ0UO"
   },
   "source": [
    "The elements in <code>album_set2</code> but not in <code>album_set1</code> is given by:"
   ]
  },
  {
   "cell_type": "code",
   "execution_count": null,
   "metadata": {
    "id": "EFSxKPKXZ0UO",
    "outputId": "7de8925f-bd2c-4e44-e80e-0126e087a357"
   },
   "outputs": [],
   "source": [
    "\n",
    "difference2 = album_set2.difference(album_set1)\n",
    "difference2\n"
   ]
  },
  {
   "cell_type": "markdown",
   "metadata": {
    "id": "X9LGEguTZ0UP"
   },
   "source": [
    "<img src = \"https://s3-api.us-geo.objectstorage.softlayer.net/cf-courses-data/CognitiveClass/PY0101EN/Chapter%202/Images/SetsRight.png\" width=\"650\" />"
   ]
  },
  {
   "cell_type": "markdown",
   "metadata": {
    "id": "nCfkGL4qZ0UP"
   },
   "source": [
    "You can also find the intersection of <code>album_list1</code> and <code>album_list2</code>, using the <code>intersection</code> method:"
   ]
  },
  {
   "cell_type": "code",
   "execution_count": null,
   "metadata": {
    "id": "9ZkTSxUYZ0UP"
   },
   "outputs": [],
   "source": [
    "# Use setA.intersection(setB) to find the intersection of album_list1 and album_list2\n",
    "\n"
   ]
  },
  {
   "cell_type": "markdown",
   "metadata": {
    "id": "G3A9DibhZ0UP"
   },
   "source": [
    " This corresponds to the intersection of the two circles:"
   ]
  },
  {
   "cell_type": "markdown",
   "metadata": {
    "id": "d1vmMoqmZ0UP"
   },
   "source": [
    "<img src=\"https://s3-api.us-geo.objectstorage.softlayer.net/cf-courses-data/CognitiveClass/PY0101EN/Chapter%202/Images/SetsIntersect.png\" width=\"650\" />"
   ]
  },
  {
   "cell_type": "markdown",
   "metadata": {
    "id": "jJRs1yHcZ0UP"
   },
   "source": [
    "The union corresponds to all the elements in both sets, which is represented by coloring both circles:"
   ]
  },
  {
   "cell_type": "markdown",
   "metadata": {
    "id": "4gmB7XDcZ0UQ"
   },
   "source": [
    "<img src = \"https://s3-api.us-geo.objectstorage.softlayer.net/cf-courses-data/CognitiveClass/PY0101EN/Chapter%202/Images/SetsUnion.png\" width=\"650\" />"
   ]
  },
  {
   "cell_type": "markdown",
   "metadata": {
    "id": "p6_L6OWTZ0US"
   },
   "source": [
    " The union is given by:"
   ]
  },
  {
   "cell_type": "code",
   "execution_count": null,
   "metadata": {
    "id": "EGPe_wTBZ0US",
    "outputId": "59a97025-31af-4494-92e8-f2fb5cc563b8"
   },
   "outputs": [],
   "source": [
    "# Use setA.union(setB) to find the union of two sets\n",
    "\n",
    "union = album_set1.union(album_set2)\n",
    "union\n"
   ]
  },
  {
   "cell_type": "code",
   "execution_count": null,
   "metadata": {
    "id": "WDAoZc8pZ0UT"
   },
   "outputs": [],
   "source": [
    "set1 = {1,2,3,4,5,6}\n",
    "set2 = {1,2,3}"
   ]
  },
  {
   "cell_type": "markdown",
   "metadata": {
    "id": "0zpPDS2FZ0UT"
   },
   "source": [
    "And you can check if a set is a superset or subset of another set, respectively, like this:"
   ]
  },
  {
   "cell_type": "code",
   "execution_count": null,
   "metadata": {
    "id": "lDAH1Ka_Z0UT",
    "outputId": "4828f74c-821d-42de-a88c-16628e7a5e86"
   },
   "outputs": [],
   "source": [
    "# Use setA.issuperset(setB) to Check if superset\n",
    "set1.issuperset(set2), set2.issuperset(set1)\n"
   ]
  },
  {
   "cell_type": "code",
   "execution_count": null,
   "metadata": {
    "id": "4lav1wr_Z0UU",
    "outputId": "a2e23944-f4f9-463c-81b2-fc857a0151e5"
   },
   "outputs": [],
   "source": [
    "# # Use setA.issubset(setB) to Check if subset\n",
    "set1.issubset(set2), set2.issubset(set1)\n"
   ]
  },
  {
   "cell_type": "markdown",
   "metadata": {
    "id": "zWLeuaLGZ0UV"
   },
   "source": [
    "Here is an example where <code>issubset()</code> and <code>issuperset()</code> return true:"
   ]
  },
  {
   "cell_type": "code",
   "execution_count": null,
   "metadata": {
    "id": "SQixuC5nZ0UV"
   },
   "outputs": [],
   "source": [
    "# Check if subset\n",
    "\n"
   ]
  },
  {
   "cell_type": "code",
   "execution_count": null,
   "metadata": {
    "id": "aijgM75XZ0UV"
   },
   "outputs": [],
   "source": [
    "# Check if superset\n",
    "\n"
   ]
  },
  {
   "cell_type": "markdown",
   "metadata": {
    "id": "9SipdCPTZ0UV"
   },
   "source": [
    "<hr>"
   ]
  },
  {
   "cell_type": "markdown",
   "metadata": {
    "id": "UXyGKLLrZ0UW"
   },
   "source": [
    "<h2 id=\"quiz\">Quiz on Sets</h2>"
   ]
  },
  {
   "cell_type": "markdown",
   "metadata": {
    "id": "Zja7YnJaZ0UW"
   },
   "source": [
    "Convert the list <code>['rap','house','electronic music', 'rap']</code> to a set:"
   ]
  },
  {
   "cell_type": "code",
   "execution_count": null,
   "metadata": {
    "id": "qqSPWpnsZ0UW",
    "outputId": "6ae50e19-e61c-444e-dce0-4265fcfaeca4"
   },
   "outputs": [],
   "source": [
    "# Write your code below and press Shift+Enter to execute\n",
    "list_set = ...\n",
    "list_set"
   ]
  },
  {
   "cell_type": "markdown",
   "metadata": {
    "id": "qLQVkdjrZ0UX"
   },
   "source": [
    "<hr>"
   ]
  },
  {
   "cell_type": "markdown",
   "metadata": {
    "id": "e1WWmszrZ0UX"
   },
   "source": [
    "Consider the list <code>A = [1, 2, 2, 1]</code> and set <code>B = set([1, 2, 2, 1])</code>, does <code>sum(A) = sum(B)</code>"
   ]
  },
  {
   "cell_type": "code",
   "execution_count": null,
   "metadata": {
    "id": "q1Zeg7SaZ0UX",
    "outputId": "fa744654-37df-45dd-e609-00d4b3403272"
   },
   "outputs": [],
   "source": [
    "# Write your code below and press Shift+Enter to execute\n",
    "\n"
   ]
  },
  {
   "cell_type": "markdown",
   "metadata": {
    "id": "VgM_dQDZZ0UY"
   },
   "source": [
    "<hr>"
   ]
  },
  {
   "cell_type": "markdown",
   "metadata": {
    "id": "6mKzAbnsZ0UY"
   },
   "source": [
    "Create a new set <code>album_set3</code> that is the union of <code>album_set1</code> and <code>album_set2</code>:"
   ]
  },
  {
   "cell_type": "code",
   "execution_count": null,
   "metadata": {
    "id": "PX9io4g8Z0UY",
    "outputId": "baf09cad-b964-4242-c388-040a8f8296be"
   },
   "outputs": [],
   "source": [
    "# Write your code below and press Shift+Enter to execute\n"
   ]
  },
  {
   "cell_type": "markdown",
   "metadata": {
    "id": "rqRROKkgZ0UY"
   },
   "source": [
    "<hr>"
   ]
  },
  {
   "cell_type": "markdown",
   "metadata": {
    "id": "bM3KkG2nZ0UZ"
   },
   "source": [
    "Find out if <code>album_set1</code> is a subset of <code>album_set3</code>:"
   ]
  },
  {
   "cell_type": "code",
   "execution_count": null,
   "metadata": {
    "id": "vrvdM7EbZ0UZ",
    "outputId": "1552d389-1097-43ba-9030-84fa8334522b"
   },
   "outputs": [],
   "source": [
    "# Write your code below and press Shift+Enter to execute\n"
   ]
  }
 ],
 "metadata": {
  "colab": {
   "provenance": []
  },
  "kernelspec": {
   "display_name": "Python 3 (ipykernel)",
   "language": "python",
   "name": "python3"
  },
  "language_info": {
   "codemirror_mode": {
    "name": "ipython",
    "version": 3
   },
   "file_extension": ".py",
   "mimetype": "text/x-python",
   "name": "python",
   "nbconvert_exporter": "python",
   "pygments_lexer": "ipython3",
   "version": "3.12.0"
  }
 },
 "nbformat": 4,
 "nbformat_minor": 4
}
